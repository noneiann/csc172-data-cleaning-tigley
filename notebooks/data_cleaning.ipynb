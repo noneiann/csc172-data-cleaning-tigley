{
 "cells": [
  {
   "cell_type": "code",
   "execution_count": null,
   "id": "f7b5e126",
   "metadata": {},
   "outputs": [],
   "source": [
    "# Import libraries\n",
    "import pandas as pd\n",
    "import numpy as np"
   ]
  },
  {
   "cell_type": "code",
   "execution_count": null,
   "id": "8cd0e472",
   "metadata": {},
   "outputs": [],
   "source": [
    "# Load dataset\n",
    "df = pd.read_csv(\"../data/raw_dataset.csv\")\n",
    "df.head()"
   ]
  },
  {
   "cell_type": "code",
   "execution_count": null,
   "id": "b121b583",
   "metadata": {},
   "outputs": [],
   "source": [
    "# gathering info sa dataset\n",
    "df.info()\n",
    "df.describe()"
   ]
  },
  {
   "cell_type": "code",
   "execution_count": null,
   "id": "553b9b60",
   "metadata": {},
   "outputs": [],
   "source": [
    "# Handling missing values\n",
    "\n",
    "# Age Values\n",
    "# Age data is skewed, and with subgroups that have different median ages,\n",
    "# so group the ages by Pclass and Sex according to gemini\n",
    "age_groups = df.groupby(['Pclass', 'Sex'])['Age']\n",
    "group_medians = age_groups.transform('median')\n",
    "df['Age'] = df['Age'].fillna(group_medians)\n",
    "\n",
    "# Embarked Values \n",
    "# Simple filling in with the most common port (mode) since only two values missing\n",
    "df[\"Embarked\"] = df['Embarked'].fillna(df[\"Embarked\"].mode()[0])\n",
    "\n",
    "# Cabin Values\n",
    "# Too many missing values so just maybe just put Unknown as a placeholder idk\n",
    "df[\"Cabin\"] = df[\"Cabin\"].fillna(\"U\")"
   ]
  },
  {
   "cell_type": "code",
   "execution_count": null,
   "id": "abdda5c7",
   "metadata": {},
   "outputs": [],
   "source": [
    "# Removing Duplicates\n",
    "\n",
    "# NOTE: THIS IS FOR DUPLICATE ROWS, NOT FOR DUPLICATE COLUMNS\n",
    "df = df.drop_duplicates()\n",
    "\n",
    "# No need to remove duplicates in cabins since multiple people can share a cabin\n",
    "# No need to remove duplicates in tickets since multiple people can share a ticket\n",
    "\n",
    "# Check for name duplicates\n",
    "duplicate_names = df[df.duplicated(subset=['Name'], keep=False)]\n",
    "print(\"Duplicate names: \", len(duplicate_names))\n",
    "# Check for ticket duplicates in duplicate names\n",
    "duplicate_tickets = duplicate_names[duplicate_names.duplicated(subset=['Ticket'], keep=False)]\n",
    "print(\"Duplicate tickets with same name: \", len(duplicate_tickets))\n",
    "    \n",
    "df = df.drop(duplicate_tickets.index)\n",
    "\n"
   ]
  },
  {
   "cell_type": "code",
   "execution_count": null,
   "id": "6b45aa73",
   "metadata": {},
   "outputs": [],
   "source": [
    "# Standardizing Data Formats\n",
    "\n",
    "df['Sex'] = df['Sex'].str.lower()\n",
    "df['Embarked'] = df['Embarked'].str.upper()\n",
    "df['Name'] = df['Name'].str.title()\n"
   ]
  },
  {
   "cell_type": "code",
   "execution_count": null,
   "id": "09cd39fd",
   "metadata": {},
   "outputs": [],
   "source": [
    "# Outliers\n",
    "# no need to remove outliers "
   ]
  },
  {
   "cell_type": "code",
   "execution_count": null,
   "id": "83684551",
   "metadata": {},
   "outputs": [],
   "source": [
    "df.to_csv(\"../data/cleaned_dataset.csv\", index=False)\n"
   ]
  }
 ],
 "metadata": {
  "kernelspec": {
   "display_name": ".venv",
   "language": "python",
   "name": "python3"
  },
  "language_info": {
   "codemirror_mode": {
    "name": "ipython",
    "version": 3
   },
   "file_extension": ".py",
   "mimetype": "text/x-python",
   "name": "python",
   "nbconvert_exporter": "python",
   "pygments_lexer": "ipython3",
   "version": "3.13.7"
  }
 },
 "nbformat": 4,
 "nbformat_minor": 5
}
